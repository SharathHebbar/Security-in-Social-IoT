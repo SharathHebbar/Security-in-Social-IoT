{
 "cells": [
  {
   "cell_type": "markdown",
   "id": "bdc150da",
   "metadata": {},
   "source": [
    "Fernet guarantees that a message encrypted using it cannot be manipulated or read without the key. Fernet is an implementation of symmetric (also known as “secret key”) authenticated cryptography. Fernet also has support for implementing key rotation via MultiFernet."
   ]
  },
  {
   "cell_type": "markdown",
   "id": "97841abc",
   "metadata": {},
   "source": [
    "### importing libraries"
   ]
  },
  {
   "cell_type": "code",
   "execution_count": 55,
   "id": "1ab4caaa",
   "metadata": {},
   "outputs": [],
   "source": [
    "import hashlib\n",
    "from cryptography.fernet import Fernet\n"
   ]
  },
  {
   "cell_type": "code",
   "execution_count": 56,
   "id": "fe549f04",
   "metadata": {},
   "outputs": [],
   "source": [
    "key = Fernet.generate_key()\n",
    "fernet = Fernet(key)"
   ]
  },
  {
   "cell_type": "markdown",
   "id": "c5609610",
   "metadata": {},
   "source": [
    "### Creating user and his credentials"
   ]
  },
  {
   "cell_type": "code",
   "execution_count": 57,
   "id": "502538a1",
   "metadata": {},
   "outputs": [],
   "source": [
    "enc_user = []\n",
    "class User():\n",
    "    \n",
    "    uid = 0\n",
    "    name = \"\"\n",
    "    Dob = \"\"\n",
    "    Gender = \"\"\n",
    "    Address = \"\"\n",
    "    Phone=\"\"\n",
    "    \n",
    "    def __init__(self, user):\n",
    "        self.uid = user[0]\n",
    "        self.name = user[1]\n",
    "        self.Dob = user[2]\n",
    "        self.Gender = user[3]\n",
    "        self.Address = user[4]\n",
    "        self.Phone = user[5]\n",
    "        self.two_way_hashing(user)\n",
    "        self.one_way_hashing(user)\n",
    "    \n",
    "    def two_way_hashing(self,user):\n",
    "\n",
    "        \n",
    "        enc_uid = fernet.encrypt(user[0].encode())\n",
    "        enc_name = fernet.encrypt(user[1].encode())\n",
    "        enc_user.append(enc_uid)\n",
    "        enc_user.append(enc_name)\n",
    "    \n",
    "    def one_way_hashing(self,user):\n",
    "        \n",
    "        enc_Dob = hashlib.md5(user[2].encode())\n",
    "        enc_Gender = hashlib.md5(user[3].encode())\n",
    "        enc_Address = hashlib.md5(user[4].encode())\n",
    "        enc_Phone = hashlib.md5(user[5].encode())\n",
    "        \n",
    "        enc_user.append(enc_Dob)\n",
    "        enc_user.append(enc_Gender)\n",
    "        enc_user.append(enc_Address)\n",
    "        enc_user.append(enc_Phone)\n",
    "        \n",
    "    "
   ]
  },
  {
   "cell_type": "markdown",
   "id": "dc287386",
   "metadata": {},
   "source": [
    "### Creating a friend to communicate"
   ]
  },
  {
   "cell_type": "code",
   "execution_count": 58,
   "id": "70e21909",
   "metadata": {},
   "outputs": [],
   "source": [
    "enc_friend = []\n",
    "class Friend():\n",
    "    fid = 0\n",
    "    name = \"\"\n",
    "    Dob = \"\"\n",
    "    Gender = \"\"\n",
    "    Address = \"\"\n",
    "    Phone=\"\"\n",
    "    \n",
    "    def __init__(self, friend):\n",
    "        self.fid = friend[0]\n",
    "        self.name = friend[1]\n",
    "        self.Dob = friend[2]\n",
    "        self.Gender = friend[3]\n",
    "        self.Address = friend[4]\n",
    "        self.Phone = friend[5]\n",
    "        self.two_way_hashing(friend)\n",
    "        self.one_way_hashing(friend)\n",
    "    \n",
    "    def two_way_hashing(self,friend):\n",
    "        \n",
    "        enc_fid = fernet.encrypt(friend[0].encode())\n",
    "        enc_name = fernet.encrypt(friend[1].encode())\n",
    "        \n",
    "        \n",
    "        enc_friend.append(enc_fid)\n",
    "        enc_friend.append(enc_name)\n",
    "    \n",
    "    def one_way_hashing(self,friend):\n",
    "        \n",
    "        enc_Dob = hashlib.md5(friend[2].encode())\n",
    "        enc_Gender = hashlib.md5(friend[3].encode())\n",
    "        enc_Address = hashlib.md5(friend[4].encode())\n",
    "        enc_Phone = hashlib.md5(friend[5].encode())\n",
    "        \n",
    "        \n",
    "        enc_friend.append(enc_Dob)\n",
    "        enc_friend.append(enc_Gender)\n",
    "        enc_friend.append(enc_Address)\n",
    "        enc_friend.append(enc_Phone)\n",
    "        "
   ]
  },
  {
   "cell_type": "markdown",
   "id": "1a2ee03f",
   "metadata": {},
   "source": [
    "### Communication between two peers"
   ]
  },
  {
   "cell_type": "code",
   "execution_count": 59,
   "id": "6f96ef7c",
   "metadata": {},
   "outputs": [],
   "source": [
    "\n",
    "user = ['1','ABC','24-12-2002','Male','bengaluru','+9181231231231']\n",
    "friend = ['1','DEF','24-05-1998','Male','bengaluru','+9183211231231']\n",
    "u = User(user)\n",
    "f = Friend(friend)\n"
   ]
  },
  {
   "cell_type": "code",
   "execution_count": 60,
   "id": "625a1af1",
   "metadata": {},
   "outputs": [
    {
     "name": "stdout",
     "output_type": "stream",
     "text": [
      "Communication between ABC and DEF has begun\n"
     ]
    }
   ],
   "source": [
    "\n",
    "print(\"Communication between {} and {} has begun\".format(fernet.decrypt(enc_user[1]).decode(),fernet.decrypt(enc_friend[1]).decode()))"
   ]
  },
  {
   "cell_type": "code",
   "execution_count": null,
   "id": "61a5ecc1",
   "metadata": {},
   "outputs": [],
   "source": []
  },
  {
   "cell_type": "code",
   "execution_count": null,
   "id": "7de2bb83",
   "metadata": {},
   "outputs": [],
   "source": []
  },
  {
   "cell_type": "code",
   "execution_count": null,
   "id": "b9ff5e34",
   "metadata": {},
   "outputs": [],
   "source": []
  },
  {
   "cell_type": "code",
   "execution_count": null,
   "id": "9c39bc34",
   "metadata": {},
   "outputs": [],
   "source": []
  },
  {
   "cell_type": "code",
   "execution_count": null,
   "id": "d7f5518f",
   "metadata": {},
   "outputs": [],
   "source": []
  },
  {
   "cell_type": "code",
   "execution_count": null,
   "id": "f4f89487",
   "metadata": {},
   "outputs": [],
   "source": []
  }
 ],
 "metadata": {
  "kernelspec": {
   "display_name": "Python 3 (ipykernel)",
   "language": "python",
   "name": "python3"
  },
  "language_info": {
   "codemirror_mode": {
    "name": "ipython",
    "version": 3
   },
   "file_extension": ".py",
   "mimetype": "text/x-python",
   "name": "python",
   "nbconvert_exporter": "python",
   "pygments_lexer": "ipython3",
   "version": "3.9.6"
  }
 },
 "nbformat": 4,
 "nbformat_minor": 5
}
