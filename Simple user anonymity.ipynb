{
 "cells": [
  {
   "cell_type": "markdown",
   "id": "97841abc",
   "metadata": {},
   "source": [
    "### importing libraries"
   ]
  },
  {
   "cell_type": "code",
   "execution_count": 8,
   "id": "1ab4caaa",
   "metadata": {},
   "outputs": [],
   "source": [
    "import hashlib\n",
    "import cryptography"
   ]
  },
  {
   "cell_type": "markdown",
   "id": "c5609610",
   "metadata": {},
   "source": [
    "### Creating user and his credentials"
   ]
  },
  {
   "cell_type": "code",
   "execution_count": 2,
   "id": "502538a1",
   "metadata": {},
   "outputs": [],
   "source": [
    "\n",
    "enc_user = []\n",
    "class User():\n",
    "    uid = 0\n",
    "    name = \"\"\n",
    "    Dob = \"\"\n",
    "    Gender = \"\"\n",
    "    Address = \"\"\n",
    "    Phone=\"\"\n",
    "    def __init__(self, user):\n",
    "        self.uid = user[0]\n",
    "        self.name = user[1]\n",
    "        self.Dob = user[2]\n",
    "        self.Gender = user[3]\n",
    "        self.Address = user[4]\n",
    "        self.Phone = user[5]\n",
    "        self.two_way_hashing(user)\n",
    "        self.one_way_hashing(user)\n",
    "    \n",
    "    def two_way_hashing(self,user):\n",
    "        enc_uid = user[0]\n",
    "        enc_name = user[1]\n",
    "        enc_user.append(enc_uid)\n",
    "        enc_user.append(enc_name)\n",
    "    \n",
    "    def one_way_hashing(self,user):\n",
    "        enc_Dob = user[2]\n",
    "        enc_Gender = user[3]\n",
    "        enc_Address = user[4]\n",
    "        enc_Phone = user[5]\n",
    "        enc_user.append(enc_Dob)\n",
    "        enc_user.append(enc_Gender)\n",
    "        enc_user.append(enc_Address)\n",
    "        enc_user.append(enc_Phone)\n",
    "        \n",
    "    "
   ]
  },
  {
   "cell_type": "markdown",
   "id": "dc287386",
   "metadata": {},
   "source": [
    "### Creating a friend to communicate"
   ]
  },
  {
   "cell_type": "code",
   "execution_count": 3,
   "id": "70e21909",
   "metadata": {},
   "outputs": [],
   "source": [
    "\n",
    "enc_friend = []\n",
    "class Friend():\n",
    "    fid = 0\n",
    "    name = \"\"\n",
    "    Dob = \"\"\n",
    "    Gender = \"\"\n",
    "    Address = \"\"\n",
    "    Phone=\"\"\n",
    "    def __init__(self, friend):\n",
    "        self.fid = friend[0]\n",
    "        self.name = friend[1]\n",
    "        self.Dob = friend[2]\n",
    "        self.Gender = friend[3]\n",
    "        self.Address = friend[4]\n",
    "        self.Phone = friend[5]\n",
    "        self.two_way_hashing(friend)\n",
    "        self.one_way_hashing(friend)\n",
    "    \n",
    "    def two_way_hashing(self,friend):\n",
    "        enc_fid = friend[0]\n",
    "        enc_name = friend[1]\n",
    "        enc_friend.append(enc_fid)\n",
    "        enc_friend.append(enc_name)\n",
    "    \n",
    "    def one_way_hashing(self,friend):\n",
    "        enc_Dob = friend[2]\n",
    "        enc_Gender = friend[3]\n",
    "        enc_Address = friend[4]\n",
    "        enc_Phone = friend[5]\n",
    "        enc_friend.append(enc_Dob)\n",
    "        enc_friend.append(enc_Gender)\n",
    "        enc_friend.append(enc_Address)\n",
    "        enc_friend.append(enc_Phone)\n",
    "        "
   ]
  },
  {
   "cell_type": "markdown",
   "id": "1a2ee03f",
   "metadata": {},
   "source": [
    "### Communication between two peers"
   ]
  },
  {
   "cell_type": "code",
   "execution_count": 4,
   "id": "6f96ef7c",
   "metadata": {},
   "outputs": [],
   "source": [
    "\n",
    "user = [1,'ABC','24-12-2002','Male','bengaluru','+9181231231231']\n",
    "friend = [1,'DEF','24-05-1998','Male','bengaluru','+9183211231231']\n",
    "u = User(user)\n",
    "f = Friend(friend)\n"
   ]
  },
  {
   "cell_type": "code",
   "execution_count": 5,
   "id": "625a1af1",
   "metadata": {},
   "outputs": [
    {
     "name": "stdout",
     "output_type": "stream",
     "text": [
      "Communication between ABC and DEF has begun\n"
     ]
    }
   ],
   "source": [
    "\n",
    "print(\"Communication between {} and {} has begun\".format(enc_user[1],enc_friend[1]))\n"
   ]
  },
  {
   "cell_type": "code",
   "execution_count": 7,
   "id": "61a5ecc1",
   "metadata": {},
   "outputs": [],
   "source": []
  },
  {
   "cell_type": "code",
   "execution_count": null,
   "id": "7de2bb83",
   "metadata": {},
   "outputs": [],
   "source": []
  },
  {
   "cell_type": "code",
   "execution_count": null,
   "id": "b9ff5e34",
   "metadata": {},
   "outputs": [],
   "source": []
  },
  {
   "cell_type": "code",
   "execution_count": null,
   "id": "9c39bc34",
   "metadata": {},
   "outputs": [],
   "source": []
  },
  {
   "cell_type": "code",
   "execution_count": null,
   "id": "d7f5518f",
   "metadata": {},
   "outputs": [],
   "source": []
  },
  {
   "cell_type": "code",
   "execution_count": null,
   "id": "f4f89487",
   "metadata": {},
   "outputs": [],
   "source": []
  }
 ],
 "metadata": {
  "kernelspec": {
   "display_name": "Python 3 (ipykernel)",
   "language": "python",
   "name": "python3"
  },
  "language_info": {
   "codemirror_mode": {
    "name": "ipython",
    "version": 3
   },
   "file_extension": ".py",
   "mimetype": "text/x-python",
   "name": "python",
   "nbconvert_exporter": "python",
   "pygments_lexer": "ipython3",
   "version": "3.9.6"
  }
 },
 "nbformat": 4,
 "nbformat_minor": 5
}
