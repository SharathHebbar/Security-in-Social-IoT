{
 "cells": [
  {
   "cell_type": "markdown",
   "id": "82eb6a69",
   "metadata": {},
   "source": [
    "### importing libraries"
   ]
  },
  {
   "cell_type": "code",
   "execution_count": 1,
   "id": "65c856db",
   "metadata": {},
   "outputs": [],
   "source": [
    "import hashlib"
   ]
  },
  {
   "cell_type": "markdown",
   "id": "9551e493",
   "metadata": {},
   "source": [
    "### Creating user and his credentials"
   ]
  },
  {
   "cell_type": "code",
   "execution_count": null,
   "id": "062ecafd",
   "metadata": {},
   "outputs": [],
   "source": [
    "class User():\n",
    "    uid = 0\n",
    "    name = \"\"\n",
    "    Dob = \"\"\n",
    "    Gender = \"\"\n",
    "    Address = \"\"\n",
    "    Phone=\"\"\n",
    "    def __init__(self, user):\n",
    "        uid = user[0]\n",
    "        name = user[1]\n",
    "        Dob = user[2]\n",
    "        Gender = user[3]\n",
    "        Address = user[4]\n",
    "        Phone = user[5]\n",
    "    def two_way_hashing(user):\n",
    "        enc_uid = user[0]\n",
    "        enc_name = user[1]\n",
    "        "
   ]
  },
  {
   "cell_type": "code",
   "execution_count": null,
   "id": "91b60d84",
   "metadata": {},
   "outputs": [],
   "source": []
  },
  {
   "cell_type": "code",
   "execution_count": null,
   "id": "77a289a9",
   "metadata": {},
   "outputs": [],
   "source": []
  },
  {
   "cell_type": "code",
   "execution_count": null,
   "id": "ab57abf5",
   "metadata": {},
   "outputs": [],
   "source": []
  },
  {
   "cell_type": "code",
   "execution_count": null,
   "id": "de6e3abe",
   "metadata": {},
   "outputs": [],
   "source": []
  },
  {
   "cell_type": "code",
   "execution_count": null,
   "id": "851a7c4c",
   "metadata": {},
   "outputs": [],
   "source": []
  }
 ],
 "metadata": {
  "kernelspec": {
   "display_name": "Python 3 (ipykernel)",
   "language": "python",
   "name": "python3"
  },
  "language_info": {
   "codemirror_mode": {
    "name": "ipython",
    "version": 3
   },
   "file_extension": ".py",
   "mimetype": "text/x-python",
   "name": "python",
   "nbconvert_exporter": "python",
   "pygments_lexer": "ipython3",
   "version": "3.9.6"
  }
 },
 "nbformat": 4,
 "nbformat_minor": 5
}
