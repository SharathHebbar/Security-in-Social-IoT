{
 "cells": [
  {
   "cell_type": "markdown",
   "id": "97841abc",
   "metadata": {},
   "source": [
    "### importing libraries"
   ]
  },
  {
   "cell_type": "code",
   "execution_count": 47,
   "id": "1ab4caaa",
   "metadata": {},
   "outputs": [],
   "source": [
    "import hashlib\n",
    "from cryptography.fernet import Fernet"
   ]
  },
  {
   "cell_type": "code",
   "execution_count": 48,
   "id": "95b1bb20",
   "metadata": {},
   "outputs": [],
   "source": [
    "key = Fernet.generate_key()\n",
    "fernet = Fernet(key)"
   ]
  },
  {
   "cell_type": "markdown",
   "id": "c5609610",
   "metadata": {},
   "source": [
    "### Creating user and his credentials"
   ]
  },
  {
   "cell_type": "code",
   "execution_count": 49,
   "id": "502538a1",
   "metadata": {},
   "outputs": [],
   "source": [
    "enc_user = []\n",
    "class User():\n",
    "    \n",
    "    uid = 0\n",
    "    name = \"\"\n",
    "    Dob = \"\"\n",
    "    Gender = \"\"\n",
    "    Address = \"\"\n",
    "    Phone=\"\"\n",
    "    \n",
    "    def __init__(self, user):\n",
    "        self.uid = user[0]\n",
    "        self.name = user[1]\n",
    "        self.Dob = user[2]\n",
    "        self.Gender = user[3]\n",
    "        self.Address = user[4]\n",
    "        self.Phone = user[5]\n",
    "        self.two_way_hashing(user)\n",
    "        self.one_way_hashing(user)\n",
    "    \n",
    "    def two_way_hashing(self,user):\n",
    "\n",
    "        \n",
    "        enc_uid = fernet.encrypt(user[0].encode())\n",
    "        enc_name = fernet.encrypt(user[1].encode())\n",
    "        enc_user.append(enc_uid)\n",
    "        enc_user.append(enc_name)\n",
    "    \n",
    "    def one_way_hashing(self,user):\n",
    "        \n",
    "        enc_Dob = hashlib.md5(user[2].encode())\n",
    "        enc_Gender = hashlib.md5(user[3].encode())\n",
    "        enc_Address = hashlib.md5(user[4].encode())\n",
    "        enc_Phone = hashlib.md5(user[5].encode())\n",
    "        \n",
    "        enc_user.append(enc_Dob)\n",
    "        enc_user.append(enc_Gender)\n",
    "        enc_user.append(enc_Address)\n",
    "        enc_user.append(enc_Phone)\n",
    "        \n",
    "    "
   ]
  },
  {
   "cell_type": "markdown",
   "id": "dc287386",
   "metadata": {},
   "source": [
    "### Creating a friend to communicate"
   ]
  },
  {
   "cell_type": "code",
   "execution_count": 53,
   "id": "70e21909",
   "metadata": {},
   "outputs": [],
   "source": [
    "enc_friend = []\n",
    "class Friend():\n",
    "    fid = 0\n",
    "    name = \"\"\n",
    "    Dob = \"\"\n",
    "    Gender = \"\"\n",
    "    Address = \"\"\n",
    "    Phone=\"\"\n",
    "    \n",
    "    def __init__(self, friend):\n",
    "        self.fid = friend[0]\n",
    "        self.name = friend[1]\n",
    "        self.Dob = friend[2]\n",
    "        self.Gender = friend[3]\n",
    "        self.Address = friend[4]\n",
    "        self.Phone = friend[5]\n",
    "        self.two_way_hashing(friend)\n",
    "        self.one_way_hashing(friend)\n",
    "    \n",
    "    def two_way_hashing(self,friend):\n",
    "        \n",
    "        enc_fid = fernet.encrypt(friend[0].encode())\n",
    "        enc_name = fernet.encrypt(friend[1].encode())\n",
    "        \n",
    "        \n",
    "        enc_friend.append(enc_fid)\n",
    "        enc_friend.append(enc_name)\n",
    "    \n",
    "    def one_way_hashing(self,friend):\n",
    "        \n",
    "        enc_Dob = hashlib.md5(friend[2].encode())\n",
    "        enc_Gender = hashlib.md5(friend[3].encode())\n",
    "        enc_Address = hashlib.md5(friend[4].encode())\n",
    "        enc_Phone = hashlib.md5(friend[5].encode())\n",
    "        \n",
    "        \n",
    "        enc_friend.append(enc_Dob)\n",
    "        enc_friend.append(enc_Gender)\n",
    "        enc_friend.append(enc_Address)\n",
    "        enc_friend.append(enc_Phone)\n",
    "        "
   ]
  },
  {
   "cell_type": "markdown",
   "id": "1a2ee03f",
   "metadata": {},
   "source": [
    "### Communication between two peers"
   ]
  },
  {
   "cell_type": "code",
   "execution_count": 54,
   "id": "6f96ef7c",
   "metadata": {},
   "outputs": [
    {
     "ename": "AttributeError",
     "evalue": "'_hashlib.HASH' object has no attribute 'decode'",
     "output_type": "error",
     "traceback": [
      "\u001b[1;31m---------------------------------------------------------------------------\u001b[0m",
      "\u001b[1;31mAttributeError\u001b[0m                            Traceback (most recent call last)",
      "\u001b[1;32m~\\AppData\\Local\\Temp/ipykernel_2500/546918072.py\u001b[0m in \u001b[0;36m<module>\u001b[1;34m\u001b[0m\n\u001b[0;32m      2\u001b[0m \u001b[0mfriend\u001b[0m \u001b[1;33m=\u001b[0m \u001b[1;33m[\u001b[0m\u001b[1;34m'1'\u001b[0m\u001b[1;33m,\u001b[0m\u001b[1;34m'DEF'\u001b[0m\u001b[1;33m,\u001b[0m\u001b[1;34m'24-05-1998'\u001b[0m\u001b[1;33m,\u001b[0m\u001b[1;34m'Male'\u001b[0m\u001b[1;33m,\u001b[0m\u001b[1;34m'bengaluru'\u001b[0m\u001b[1;33m,\u001b[0m\u001b[1;34m'+9183211231231'\u001b[0m\u001b[1;33m]\u001b[0m\u001b[1;33m\u001b[0m\u001b[1;33m\u001b[0m\u001b[0m\n\u001b[0;32m      3\u001b[0m \u001b[0mu\u001b[0m \u001b[1;33m=\u001b[0m \u001b[0mUser\u001b[0m\u001b[1;33m(\u001b[0m\u001b[0muser\u001b[0m\u001b[1;33m)\u001b[0m\u001b[1;33m\u001b[0m\u001b[1;33m\u001b[0m\u001b[0m\n\u001b[1;32m----> 4\u001b[1;33m \u001b[0mf\u001b[0m \u001b[1;33m=\u001b[0m \u001b[0mFriend\u001b[0m\u001b[1;33m(\u001b[0m\u001b[0mfriend\u001b[0m\u001b[1;33m)\u001b[0m\u001b[1;33m\u001b[0m\u001b[1;33m\u001b[0m\u001b[0m\n\u001b[0m",
      "\u001b[1;32m~\\AppData\\Local\\Temp/ipykernel_2500/4186960092.py\u001b[0m in \u001b[0;36m__init__\u001b[1;34m(self, friend)\u001b[0m\n\u001b[0;32m     16\u001b[0m         \u001b[0mself\u001b[0m\u001b[1;33m.\u001b[0m\u001b[0mPhone\u001b[0m \u001b[1;33m=\u001b[0m \u001b[0mfriend\u001b[0m\u001b[1;33m[\u001b[0m\u001b[1;36m5\u001b[0m\u001b[1;33m]\u001b[0m\u001b[1;33m\u001b[0m\u001b[1;33m\u001b[0m\u001b[0m\n\u001b[0;32m     17\u001b[0m         \u001b[0mself\u001b[0m\u001b[1;33m.\u001b[0m\u001b[0mtwo_way_hashing\u001b[0m\u001b[1;33m(\u001b[0m\u001b[0mfriend\u001b[0m\u001b[1;33m)\u001b[0m\u001b[1;33m\u001b[0m\u001b[1;33m\u001b[0m\u001b[0m\n\u001b[1;32m---> 18\u001b[1;33m         \u001b[0mself\u001b[0m\u001b[1;33m.\u001b[0m\u001b[0mone_way_hashing\u001b[0m\u001b[1;33m(\u001b[0m\u001b[0mfriend\u001b[0m\u001b[1;33m)\u001b[0m\u001b[1;33m\u001b[0m\u001b[1;33m\u001b[0m\u001b[0m\n\u001b[0m\u001b[0;32m     19\u001b[0m \u001b[1;33m\u001b[0m\u001b[0m\n\u001b[0;32m     20\u001b[0m     \u001b[1;32mdef\u001b[0m \u001b[0mtwo_way_hashing\u001b[0m\u001b[1;33m(\u001b[0m\u001b[0mself\u001b[0m\u001b[1;33m,\u001b[0m\u001b[0mfriend\u001b[0m\u001b[1;33m)\u001b[0m\u001b[1;33m:\u001b[0m\u001b[1;33m\u001b[0m\u001b[1;33m\u001b[0m\u001b[0m\n",
      "\u001b[1;32m~\\AppData\\Local\\Temp/ipykernel_2500/4186960092.py\u001b[0m in \u001b[0;36mone_way_hashing\u001b[1;34m(self, friend)\u001b[0m\n\u001b[0;32m     34\u001b[0m         \u001b[0menc_Phone\u001b[0m \u001b[1;33m=\u001b[0m \u001b[0mhashlib\u001b[0m\u001b[1;33m.\u001b[0m\u001b[0mmd5\u001b[0m\u001b[1;33m(\u001b[0m\u001b[0mfriend\u001b[0m\u001b[1;33m[\u001b[0m\u001b[1;36m5\u001b[0m\u001b[1;33m]\u001b[0m\u001b[1;33m.\u001b[0m\u001b[0mencode\u001b[0m\u001b[1;33m(\u001b[0m\u001b[1;33m)\u001b[0m\u001b[1;33m)\u001b[0m\u001b[1;33m\u001b[0m\u001b[1;33m\u001b[0m\u001b[0m\n\u001b[0;32m     35\u001b[0m \u001b[1;33m\u001b[0m\u001b[0m\n\u001b[1;32m---> 36\u001b[1;33m         \u001b[0mprint\u001b[0m\u001b[1;33m(\u001b[0m\u001b[0menc_Dob\u001b[0m\u001b[1;33m.\u001b[0m\u001b[0mdecode\u001b[0m\u001b[1;33m(\u001b[0m\u001b[1;33m)\u001b[0m\u001b[1;33m)\u001b[0m\u001b[1;33m\u001b[0m\u001b[1;33m\u001b[0m\u001b[0m\n\u001b[0m\u001b[0;32m     37\u001b[0m \u001b[1;33m\u001b[0m\u001b[0m\n\u001b[0;32m     38\u001b[0m         \u001b[0menc_friend\u001b[0m\u001b[1;33m.\u001b[0m\u001b[0mappend\u001b[0m\u001b[1;33m(\u001b[0m\u001b[0menc_Dob\u001b[0m\u001b[1;33m)\u001b[0m\u001b[1;33m\u001b[0m\u001b[1;33m\u001b[0m\u001b[0m\n",
      "\u001b[1;31mAttributeError\u001b[0m: '_hashlib.HASH' object has no attribute 'decode'"
     ]
    }
   ],
   "source": [
    "\n",
    "user = ['1','ABC','24-12-2002','Male','bengaluru','+9181231231231']\n",
    "friend = ['1','DEF','24-05-1998','Male','bengaluru','+9183211231231']\n",
    "u = User(user)\n",
    "f = Friend(friend)\n"
   ]
  },
  {
   "cell_type": "code",
   "execution_count": 52,
   "id": "625a1af1",
   "metadata": {},
   "outputs": [
    {
     "name": "stdout",
     "output_type": "stream",
     "text": [
      "Communication between ABC and DEF has begun\n"
     ]
    }
   ],
   "source": [
    "\n",
    "print(\"Communication between {} and {} has begun\".format(fernet.decrypt(enc_user[1]).decode(),fernet.decrypt(enc_friend[1]).decode()))"
   ]
  },
  {
   "cell_type": "code",
   "execution_count": null,
   "id": "61a5ecc1",
   "metadata": {},
   "outputs": [],
   "source": []
  },
  {
   "cell_type": "code",
   "execution_count": null,
   "id": "7de2bb83",
   "metadata": {},
   "outputs": [],
   "source": []
  },
  {
   "cell_type": "code",
   "execution_count": null,
   "id": "b9ff5e34",
   "metadata": {},
   "outputs": [],
   "source": []
  },
  {
   "cell_type": "code",
   "execution_count": null,
   "id": "9c39bc34",
   "metadata": {},
   "outputs": [],
   "source": []
  },
  {
   "cell_type": "code",
   "execution_count": null,
   "id": "d7f5518f",
   "metadata": {},
   "outputs": [],
   "source": []
  },
  {
   "cell_type": "code",
   "execution_count": null,
   "id": "f4f89487",
   "metadata": {},
   "outputs": [],
   "source": []
  }
 ],
 "metadata": {
  "kernelspec": {
   "display_name": "Python 3 (ipykernel)",
   "language": "python",
   "name": "python3"
  },
  "language_info": {
   "codemirror_mode": {
    "name": "ipython",
    "version": 3
   },
   "file_extension": ".py",
   "mimetype": "text/x-python",
   "name": "python",
   "nbconvert_exporter": "python",
   "pygments_lexer": "ipython3",
   "version": "3.9.6"
  }
 },
 "nbformat": 4,
 "nbformat_minor": 5
}
